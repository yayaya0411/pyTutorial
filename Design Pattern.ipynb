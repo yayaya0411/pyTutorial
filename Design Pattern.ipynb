{
 "cells": [
  {
   "cell_type": "markdown",
   "metadata": {},
   "source": [
    "<a id = 'top'></a>\n",
    "# Design Patterns  \n",
    "ref: https://blog.csdn.net/weicao1990/article/details/79108193  \n",
    "ref: https://refactoringguru.cn/design-patterns  \n",
    "* [Creational Patterns](#creational_patterns)\n",
    " * [Fattory Method](#factory_method)\n",
    " * [Abstract Factory](#abstract_factory)\n",
    " * [Builder](#builder)\n",
    " * [Prototype](#prototype)"
   ]
  },
  {
   "cell_type": "markdown",
   "metadata": {},
   "source": [
    "<a id = 'creational_patterns'> </a>\n",
    "## Creational Patterns 創建型模式 [top](#top)"
   ]
  },
  {
   "cell_type": "markdown",
   "metadata": {},
   "source": [
    "<a id = 'factory_method'></a>\n",
    "## Factory Method 工廠模式 [top](#top)\n",
    "![title](design_pattern/factory_method.png)  \n",
    "**基本概念：**  \n",
    "* 在父類中提供一個創建對象的方法， 允許子類決定實例化對象的類型。\n",
    "\n",
    "**適用性：**  \n",
    "* 當一個父類不知道它所必須創建的對象的類的時候。  \n",
    "* 當一個父類希望由它的子類來指定它所創建的對象的時候。  \n",
    "* 當父類將創建對象的職責委托給多個幫助子類中的某一個，並且你希望將哪一個幫助子類是代理者這一信息局部化的時候。  \n"
   ]
  },
  {
   "cell_type": "code",
   "execution_count": 3,
   "metadata": {},
   "outputs": [
    {
     "name": "stdout",
     "output_type": "stream",
     "text": [
      "dog 小狗\n",
      "parrot parrot\n",
      "cat 小猫\n",
      "bear bear\n"
     ]
    }
   ],
   "source": [
    "class ChinaGetter:\n",
    "    \"\"\"A simple localizer a la gettext\"\"\"\n",
    "    def __init__(self):\n",
    "        self.trans = dict(dog=u\"小狗\", cat=u\"小猫\")\n",
    " \n",
    "    def get(self, msgid):\n",
    "        \"\"\"We'll punt if we don't have a translation\"\"\"\n",
    "        try:\n",
    "            return self.trans[msgid]\n",
    "        except KeyError:\n",
    "            return str(msgid)\n",
    "        \n",
    "class EnglishGetter:\n",
    "    \"\"\"Simply echoes the msg ids\"\"\"\n",
    "    def get(self, msgid):\n",
    "        return str(msgid)\n",
    "\n",
    "def get_localizer(language=\"English\"):\n",
    "    \"\"\"The factory method\"\"\"\n",
    "    languages = dict(English=EnglishGetter, China=ChinaGetter)\n",
    "    return languages[language]()\n",
    " \n",
    "# Create our localizers\n",
    "e, g = get_localizer(\"English\"), get_localizer(\"China\")\n",
    "# Localize some text\n",
    "for msgid in \"dog parrot cat bear\".split():\n",
    "    print(e.get(msgid), g.get(msgid))"
   ]
  },
  {
   "cell_type": "markdown",
   "metadata": {},
   "source": [
    "### 另一個實例問題"
   ]
  },
  {
   "cell_type": "markdown",
   "metadata": {},
   "source": [
    "**問題:**  \n",
    "假設你正在開發一款物流管理應用。最初版本只能處理卡車運輸， 因此大部分代碼都在位於名為卡車的類中。一段時間後，每天都能收到十幾次來自海運公司的請求，希望應用能夠支持海上物流功能。\n",
    "![title](img/problem1-1.png)  \n",
    "目前大部分代碼都與卡車類相關。在程式中添加輪船類需要修改全部代碼。如果你以後需要在程式中支持另外一種運輸方式， 很可能需要再次對這些代碼進行大幅修改。最後你將不得不編寫繁復的代碼，根據不同的運輸對象類，在應用中進行不同的處理。  \n",
    "\n",
    "**解決方案:**  \n",
    "工廠方法模式建議使用特殊的工廠方法代替對於對象構造函數的直接調用（即使用 new運算符）。 對象通過 new運算符創建，該運算符改在工廠方法中調用。工廠方法返回的對象通常被稱作 “產品”。  \n",
    "![title](design_pattern/solution1-1.png)  \n",
    "\n",
    "乍看之下， 這種更改可能毫無意義： 我們只是改變了程式中調用構造函數的位置而已。 但是現在你可以在子類中重寫工廠方法，從而改變其創建產品的類型。但有一點需要註意:僅當這些產品具有共同的基類或介面時，子類才能返回不同類型的產品，同時基類中的工廠方法還應將其返回類型聲明為這一共有介面。  \n",
    "![title](design_pattern/solution1-2.png)  \n",
    "\n",
    "舉例來說卡車Truck和 輪船Ship類都必須實現運輸Transport介面，該介面聲明一個名為 deliver交付的方法。每個類都將以不同的方式實現該方法： \n",
    "* 卡車走陸路交付貨物，輪船走海路交付貨物\n",
    "* 陸路運輸Road Logistics類中的工廠方法返回卡車對象，海路運輸Sea Logistics類則返回輪船對象。  \n",
    "![title](design_pattern/solution1-3.png)  \n",
    "\n",
    "調用工廠方法的代碼（通常被稱為客戶端代碼）無需瞭解不同子類返回實際對象之間的差別。客戶端將所有產品視為抽象的運輸。客戶端知道所有運輸對象都提供交付方法，但是並不關心其具體實現方式。  \n",
    "\n",
    "![title](design_pattern/factory_structure.png)  \n"
   ]
  },
  {
   "cell_type": "code",
   "execution_count": 5,
   "metadata": {},
   "outputs": [
    {
     "name": "stdout",
     "output_type": "stream",
     "text": [
      "App: Launched with the ConcreteCreator1.\n",
      "Client: I'm not aware of the creator's class, but it still works.\n",
      "Creator: The same creator's code has just worked with {Result of the ConcreteProduct1}\n",
      "\n",
      "App: Launched with the ConcreteCreator2.\n",
      "Client: I'm not aware of the creator's class, but it still works.\n",
      "Creator: The same creator's code has just worked with {Result of the ConcreteProduct2}"
     ]
    }
   ],
   "source": [
    "from __future__ import annotations\n",
    "from abc import ABC, abstractmethod\n",
    "\n",
    "class Creator(ABC):\n",
    "    \"\"\"\n",
    "    The Creator class declares the factory method that is supposed to return an object of a Product class. The Creator's subclasses usually provide the\n",
    "    implementation of this method.\n",
    "    \"\"\"\n",
    "    @abstractmethod\n",
    "    def factory_method(self):\n",
    "        \"\"\"\n",
    "        Note that the Creator may also provide some default implementation of the factory method.\n",
    "        \"\"\"\n",
    "        pass\n",
    "\n",
    "    def some_operation(self) -> str:\n",
    "        \"\"\"\n",
    "        Also note that, despite its name, the Creator's primary responsibility is not creating products. Usually, it contains some core business logic\n",
    "        that relies on Product objects, returned by the factory method. Subclasses can indirectly change that business logic by overriding the\n",
    "        factory method and returning a different type of product from it.\n",
    "        \"\"\"\n",
    "\n",
    "        # Call the factory method to create a Product object.\n",
    "        product = self.factory_method()\n",
    "\n",
    "        # Now, use the product.\n",
    "        result = f\"Creator: The same creator's code has just worked with {product.operation()}\"\n",
    "\n",
    "        return result\n",
    "\n",
    "\"\"\"\n",
    "Concrete Creators override the factory method in order to change the resulting product's type.\n",
    "\"\"\"\n",
    "class ConcreteCreator1(Creator):\n",
    "    \"\"\"\n",
    "    Note that the signature of the method still uses the abstract product type,\n",
    "    even though the concrete product is actually returned from the method. This\n",
    "    way the Creator can stay independent of concrete product classes.\n",
    "    \"\"\"\n",
    "    def factory_method(self) -> Product:\n",
    "        return ConcreteProduct1()\n",
    "\n",
    "class ConcreteCreator2(Creator):\n",
    "    def factory_method(self) -> Product:\n",
    "        return ConcreteProduct2()\n",
    "\n",
    "class Product(ABC):\n",
    "    \"\"\"\n",
    "    The Product interface declares the operations that all concrete products\n",
    "    must implement.\n",
    "    \"\"\"\n",
    "    @abstractmethod\n",
    "    def operation(self) -> str:\n",
    "        pass\n",
    "\n",
    "\"\"\"\n",
    "Concrete Products provide various implementations of the Product interface.\n",
    "\"\"\"\n",
    "class ConcreteProduct1(Product):\n",
    "    def operation(self) -> str:\n",
    "        return \"{Result of the ConcreteProduct1}\"\n",
    "\n",
    "class ConcreteProduct2(Product):\n",
    "    def operation(self) -> str:\n",
    "        return \"{Result of the ConcreteProduct2}\"\n",
    "\n",
    "def client_code(creator: Creator) -> None:\n",
    "    \"\"\"\n",
    "    The client code works with an instance of a concrete creator, albeit through its base interface. As long as the client keeps working with the creator via\n",
    "    the base interface, you can pass it any creator's subclass.\n",
    "    \"\"\"\n",
    "    print(f\"Client: I'm not aware of the creator's class, but it still works.\\n\"\n",
    "          f\"{creator.some_operation()}\", end=\"\")\n",
    "\n",
    "\n",
    "\n",
    "print(\"App: Launched with the ConcreteCreator1.\")\n",
    "client_code(ConcreteCreator1())\n",
    "print(\"\\n\")\n",
    "\n",
    "print(\"App: Launched with the ConcreteCreator2.\")\n",
    "client_code(ConcreteCreator2())"
   ]
  },
  {
   "cell_type": "markdown",
   "metadata": {},
   "source": [
    "<a id = 'abstract_factory'> </a>\n",
    "## Abstract Factory 抽象工廠 [top](#top)"
   ]
  },
  {
   "cell_type": "markdown",
   "metadata": {},
   "source": [
    "![title](design_pattern/abstract_factory.png)  \n",
    "**基本概念**  \n",
    "提供一個建立一系列相關或相互依賴對象的接口，而無需指定它們具體的類別。 \n",
    "\n",
    "**適用性**\n",
    "* 一個系統要獨立於它的產品的建立、組合和表示時。\n",
    "* 一個系統要由多個產品系列中的一個來配置時。\n",
    "* 當你要強調一系列相關的產品對象的設計以便進行聯合使用時。\n",
    "* 當你提供一個產品類庫，而只想顯示它們的接口而不是實現時。"
   ]
  },
  {
   "cell_type": "code",
   "execution_count": 3,
   "metadata": {},
   "outputs": [
    {
     "name": "stdout",
     "output_type": "stream",
     "text": [
      "This is a lovely Dog\n",
      "It says woof\n",
      "It eats dog food\n",
      "====================\n",
      "This is a lovely Dog\n",
      "It says woof\n",
      "It eats dog food\n",
      "====================\n",
      "This is a lovely Dog\n",
      "It says woof\n",
      "It eats dog food\n",
      "====================\n"
     ]
    }
   ],
   "source": [
    "'''\n",
    "Abstract Factory\n",
    "'''\n",
    "import random\n",
    " \n",
    "class PetShop:\n",
    "    \"\"\"A pet shop\"\"\"\n",
    " \n",
    "    def __init__(self, animal_factory=None):\n",
    "        \"\"\"pet_factory is our abstract factory.\n",
    "        We can set it at will.\"\"\"\n",
    "        self.pet_factory = animal_factory\n",
    " \n",
    "    def show_pet(self):\n",
    "        \"\"\"Creates and shows a pet using the\n",
    "        abstract factory\"\"\"\n",
    "        pet = self.pet_factory.get_pet()\n",
    "        print(\"This is a lovely\", str(pet))\n",
    "        print(\"It says\", pet.speak())\n",
    "        print(\"It eats\", self.pet_factory.get_food())\n",
    "\n",
    "# Stuff that our factory makes\n",
    "class Dog:\n",
    "    def speak(self):\n",
    "        return \"woof\"\n",
    " \n",
    "    def __str__(self):\n",
    "        return \"Dog\"\n",
    "\n",
    "class Cat:\n",
    "    def speak(self):\n",
    "        return \"meow\"\n",
    " \n",
    "    def __str__(self):\n",
    "        return \"Cat\"\n",
    "\n",
    "# Factory classes\n",
    "class DogFactory:\n",
    "    def get_pet(self):\n",
    "        return Dog()\n",
    " \n",
    "    def get_food(self):\n",
    "        return \"dog food\"\n",
    "\n",
    "class CatFactory:\n",
    "    def get_pet(self):\n",
    "        return Cat()\n",
    " \n",
    "    def get_food(self):\n",
    "        return \"cat food\"\n",
    "\n",
    "# Create the proper family\n",
    "def get_factory():\n",
    "    \"\"\"Let's be dynamic!\"\"\"\n",
    "    return random.choice([DogFactory, CatFactory])()\n",
    "\n",
    "# Show pets with various factories\n",
    "if __name__ == \"__main__\":\n",
    "    shop = PetShop()\n",
    "    for i in range(3):\n",
    "        shop.pet_factory = get_factory()\n",
    "        shop.show_pet()\n",
    "        print(\"=\" * 20)"
   ]
  },
  {
   "cell_type": "markdown",
   "metadata": {},
   "source": [
    "<a id = 'builder'></a>\n",
    "## Builder建造者 [top](#top)"
   ]
  },
  {
   "cell_type": "markdown",
   "metadata": {},
   "source": [
    "![title](design_pattern/builder.png)  \n",
    "**意圖**  \n",
    "將一個複雜對象的構建與它的表示分離，使得同樣的構建過程可以創建不同的表示。\n",
    "\n",
    "**適用性**  \n",
    "* 當創建覆雜對象的算法應該獨立於該對象的組成部分以及它們的裝配方式時。\n",
    "* 當構造過程必須允許被構造的對象有不同的表示時。"
   ]
  },
  {
   "cell_type": "code",
   "execution_count": 4,
   "metadata": {},
   "outputs": [
    {
     "name": "stdout",
     "output_type": "stream",
     "text": [
      "Floor: One | Size: Big\n",
      "Floor: More than One | Size: Small\n"
     ]
    }
   ],
   "source": [
    "\"\"\"\n",
    "    Builder\n",
    "\"\"\"\n",
    " \n",
    "# Director\n",
    "class Director(object):\n",
    "    def __init__(self):\n",
    "        self.builder = None\n",
    " \n",
    "    def construct_building(self):\n",
    "        self.builder.new_building()\n",
    "        self.builder.build_floor()\n",
    "        self.builder.build_size()\n",
    " \n",
    "    def get_building(self):\n",
    "        return self.builder.building\n",
    "\n",
    "# Abstract Builder\n",
    "class Builder(object):\n",
    "    def __init__(self):\n",
    "        self.building = None\n",
    " \n",
    "    def new_building(self):\n",
    "        self.building = Building()\n",
    "\n",
    "# Concrete Builder\n",
    "class BuilderHouse(Builder):\n",
    "    def build_floor(self):\n",
    "        self.building.floor = 'One'\n",
    " \n",
    "    def build_size(self):\n",
    "        self.building.size = 'Big'\n",
    " \n",
    " \n",
    "class BuilderFlat(Builder):\n",
    "    def build_floor(self):\n",
    "        self.building.floor = 'More than One'\n",
    " \n",
    "    def build_size(self):\n",
    "        self.building.size = 'Small'\n",
    "\n",
    "# Product\n",
    "class Building(object):\n",
    "    def __init__(self):\n",
    "        self.floor = None\n",
    "        self.size = None\n",
    " \n",
    "    def __repr__(self):\n",
    "        return 'Floor: %s | Size: %s' % (self.floor, self.size)\n",
    "\n",
    "# Client\n",
    "if __name__ == \"__main__\":\n",
    "    director = Director()\n",
    "    director.builder = BuilderHouse()\n",
    "    director.construct_building()\n",
    "    building = director.get_building()\n",
    "    print(building)\n",
    "    director.builder = BuilderFlat()\n",
    "    director.construct_building()\n",
    "    building = director.get_building()\n",
    "    print(building)"
   ]
  },
  {
   "cell_type": "markdown",
   "metadata": {},
   "source": [
    "<a id = 'prototype'></a>\n",
    "## Prototype 原型 [top](#top)"
   ]
  },
  {
   "cell_type": "markdown",
   "metadata": {},
   "source": [
    "![title](design_pattern/prototype.png)  \n",
    "**意圖**  \n",
    "用原型實例指定創建對象的種類，並且通過拷貝這些原型創建新的對象。\n",
    "\n",
    "**適用性**  \n",
    "當要實例化的類是在運行時刻指定時，例如，通過動態裝載；或者為了避免創建一個與產品類層次平行的工廠類層次時；或者當一個類的實例只能有幾個不同狀態組合中的一種時。建立相應數目的原型並克隆它們可能比每次用合適的狀態手工實例化該類更方便一些。"
   ]
  },
  {
   "cell_type": "code",
   "execution_count": 6,
   "metadata": {},
   "outputs": [
    {
     "name": "stdout",
     "output_type": "stream",
     "text": [
      "I am A\n",
      "1 2 3\n"
     ]
    }
   ],
   "source": [
    "'''\n",
    "Prototype\n",
    "'''\n",
    " \n",
    "import copy\n",
    " \n",
    "class Prototype:\n",
    "    def __init__(self):\n",
    "        self._objects = {}\n",
    "\n",
    "    def register_object(self, name, obj):\n",
    "        \"\"\"Register an object\"\"\"\n",
    "        self._objects[name] = obj\n",
    "\n",
    "    def unregister_object(self, name):\n",
    "        \"\"\"Unregister an object\"\"\"\n",
    "        del self._objects[name]\n",
    "\n",
    "    def clone(self, name, **attr):\n",
    "        \"\"\"Clone a registered object and update inner attributes dictionary\"\"\"\n",
    "        obj = copy.deepcopy(self._objects.get(name))\n",
    "        obj.__dict__.update(attr)\n",
    "        return obj\n",
    "\n",
    "def main():\n",
    "    class A:\n",
    "        def __str__(self):\n",
    "            return \"I am A\"\n",
    "\n",
    "    a = A()\n",
    "    prototype = Prototype()\n",
    "    prototype.register_object('a', a)\n",
    "    b = prototype.clone('a', a=1, b=2, c=3)\n",
    "\n",
    "    print(a)\n",
    "    print(b.a, b.b, b.c)\n",
    "\n",
    "if __name__ == '__main__':\n",
    "    main()"
   ]
  },
  {
   "cell_type": "code",
   "execution_count": null,
   "metadata": {},
   "outputs": [],
   "source": []
  },
  {
   "cell_type": "code",
   "execution_count": null,
   "metadata": {},
   "outputs": [],
   "source": []
  },
  {
   "cell_type": "code",
   "execution_count": null,
   "metadata": {},
   "outputs": [],
   "source": []
  },
  {
   "cell_type": "code",
   "execution_count": null,
   "metadata": {},
   "outputs": [],
   "source": []
  },
  {
   "cell_type": "code",
   "execution_count": null,
   "metadata": {},
   "outputs": [],
   "source": []
  }
 ],
 "metadata": {
  "kernelspec": {
   "display_name": "Python 3",
   "language": "python",
   "name": "python3"
  },
  "language_info": {
   "codemirror_mode": {
    "name": "ipython",
    "version": 3
   },
   "file_extension": ".py",
   "mimetype": "text/x-python",
   "name": "python",
   "nbconvert_exporter": "python",
   "pygments_lexer": "ipython3",
   "version": "3.7.6"
  }
 },
 "nbformat": 4,
 "nbformat_minor": 4
}
